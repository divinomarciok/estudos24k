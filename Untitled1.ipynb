{
  "nbformat": 4,
  "nbformat_minor": 0,
  "metadata": {
    "colab": {
      "provenance": [],
      "authorship_tag": "ABX9TyMd6v6497XZIoMc2LEM7TyQ",
      "include_colab_link": true
    },
    "kernelspec": {
      "name": "python3",
      "display_name": "Python 3"
    },
    "language_info": {
      "name": "python"
    }
  },
  "cells": [
    {
      "cell_type": "markdown",
      "metadata": {
        "id": "view-in-github",
        "colab_type": "text"
      },
      "source": [
        "<a href=\"https://colab.research.google.com/github/divinomarciok/estudos24k/blob/main/Untitled1.ipynb\" target=\"_parent\"><img src=\"https://colab.research.google.com/assets/colab-badge.svg\" alt=\"Open In Colab\"/></a>"
      ]
    },
    {
      "cell_type": "code",
      "execution_count": 38,
      "metadata": {
        "colab": {
          "base_uri": "https://localhost:8080/"
        },
        "id": "LE9qAL2tCNcD",
        "outputId": "dbf1e618-ad0f-45a2-a875-5fa238a48e06"
      },
      "outputs": [
        {
          "output_type": "stream",
          "name": "stdout",
          "text": [
            "desenvolver aplicativos móveis e web com uma plataforma de backend escalável.\n",
            "A palavra secreta tem : 8 letras -> desenvolver aplicativos móveis e web com uma plataforma de backend escalável.Vs code\n",
            "Eroou firebase\n"
          ]
        }
      ],
      "source": [
        "import requests\n",
        "import random\n",
        "\n",
        "#gravando o URL que a API ira requisitar\n",
        "url='https://raw.githubusercontent.com/guilhermeonrails/api-imersao-ia/main/words.json'\n",
        "#requisitando a API com .GET\n",
        "resposta = requests.get(url)\n",
        "#transformando resposta em JSON\n",
        "data =  resposta.json()\n",
        "#conta quantos objetos existe\n",
        "len(data)\n",
        "#imprime o ultimo item -1\n",
        "data[-1]\n",
        "\n",
        "#armazena a escolha random do resultado da requiscao da API\n",
        "valor_secreto = random.choice(data)\n",
        "\n",
        "#acessa o valor da linha 'palavra' json\n",
        "palavra_screta = valor_secreto['palavra']\n",
        "\n",
        "#acessa o valor  da \"dica\" json\n",
        "dica = valor_secreto['dica']\n",
        "\n",
        "#imprimir  usando o \"f\" para concatenar resultado  e string\n",
        "#print(f'A palavra secreta tem : {len(palavra_screta)} letras -> {dica}')\n",
        "\n",
        "print(dica)\n",
        "\n",
        "chute = input(f'A palavra secreta tem : {len(palavra_screta)} letras -> {dica}')\n",
        "\n",
        "if chute == palavra_screta:\n",
        "  print('Você acertou')\n",
        "else:\n",
        "  print(f'Eroou {palavra_screta}')\n",
        "\n"
      ]
    },
    {
      "cell_type": "markdown",
      "source": [],
      "metadata": {
        "id": "JIntQ-Z5N7cY"
      }
    }
  ]
}